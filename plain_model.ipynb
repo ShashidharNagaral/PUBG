{
 "cells": [
  {
   "cell_type": "code",
   "execution_count": 15,
   "id": "91f934b0",
   "metadata": {},
   "outputs": [],
   "source": [
    "import numpy as np\n",
    "import pandas as pd\n",
    "import seaborn as sns\n",
    "import matplotlib.pyplot as plt"
   ]
  },
  {
   "cell_type": "code",
   "execution_count": 16,
   "id": "cd208466",
   "metadata": {},
   "outputs": [],
   "source": [
    "main_data = pd.read_csv(\"../train_preprocessed.csv\")\n",
    "pd.set_option('display.max_columns', None) # shows all columns in output dataframe \n"
   ]
  },
  {
   "cell_type": "code",
   "execution_count": 17,
   "id": "14f39b19",
   "metadata": {},
   "outputs": [],
   "source": [
    "data = main_data.copy()"
   ]
  },
  {
   "cell_type": "code",
   "execution_count": 18,
   "id": "f3b8838b",
   "metadata": {
    "scrolled": true
   },
   "outputs": [],
   "source": [
    "data.head()"
   ]
  },
  {
   "cell_type": "code",
   "execution_count": 19,
   "id": "6992627b",
   "metadata": {},
   "outputs": [],
   "source": [
    "data.shape"
   ]
  },
  {
   "cell_type": "code",
   "execution_count": 20,
   "id": "50482fd6",
   "metadata": {},
   "outputs": [],
   "source": [
    "# def setSize(x, y):\n",
    "#     sns.set(rc = {'figure.figsize':(x,y)})"
   ]
  },
  {
   "cell_type": "code",
   "execution_count": 21,
   "id": "0fd22286",
   "metadata": {
    "scrolled": true
   },
   "outputs": [],
   "source": [
    "# sns.heatmap(train_data.corr(),annot=True)\n",
    "# setSize(50, 50)"
   ]
  },
  {
   "cell_type": "code",
   "execution_count": 22,
   "id": "392fcd61",
   "metadata": {},
   "outputs": [],
   "source": [
    "train_data = data.copy()"
   ]
  },
  {
   "cell_type": "code",
   "execution_count": 23,
   "id": "76cbbe6e",
   "metadata": {},
   "outputs": [],
   "source": [
    "# y = data.winPlacePerc.values\n",
    "# hb = train_data['heals'] + train_data['boosts']\n",
    "# td = 0.7*train_data['walkDistance'] + 0.15*train_data['rideDistance'] + 0.15*train_data['swimDistance']"
   ]
  },
  {
   "cell_type": "code",
   "execution_count": 24,
   "id": "4445f50a",
   "metadata": {},
   "outputs": [],
   "source": [
    "# train_data.insert(0, 'total_distance', td)\n",
    "# train_data.insert(0, 'heal_boost', hb)"
   ]
  },
  {
   "cell_type": "code",
   "execution_count": 25,
   "id": "ef24effe",
   "metadata": {},
   "outputs": [],
   "source": [
    "# train_data"
   ]
  },
  {
   "cell_type": "code",
   "execution_count": 26,
   "id": "30345bb5",
   "metadata": {},
   "outputs": [],
   "source": [
    "y = train_data.winPlacePerc.values\n",
    "train_data = data.drop(['Id', 'groupId', 'matchId', 'winPlacePerc', 'matchType'], axis=1)\n",
    "train_data = data.drop(['Id', 'groupId', 'matchId', 'matchType'], axis=1)\n"
   ]
  },
  {
   "cell_type": "code",
   "execution_count": 27,
   "id": "c6b8fa28",
   "metadata": {},
   "outputs": [],
   "source": [
    "from sklearn.preprocessing import StandardScaler\n",
    "from sklearn.preprocessing import MinMaxScaler"
   ]
  },
  {
   "cell_type": "code",
   "execution_count": 28,
   "id": "7909c16e",
   "metadata": {},
   "outputs": [],
   "source": [
    "scaler = StandardScaler()\n",
    "# scaler = MinMaxScaler()\n",
    "scaler_fit = scaler.fit(train_data)"
   ]
  },
  {
   "cell_type": "code",
   "execution_count": 29,
   "id": "5c6bdd52",
   "metadata": {},
   "outputs": [],
   "source": [
    "train_data = scaler_fit.transform(train_data)"
   ]
  },
  {
   "cell_type": "code",
   "execution_count": 30,
   "id": "f477a941",
   "metadata": {},
   "outputs": [],
   "source": [
    "train_data.shape"
   ]
  },
  {
   "cell_type": "code",
   "execution_count": 31,
   "id": "5238c9e2",
   "metadata": {},
   "outputs": [],
   "source": [
    "from sklearn.model_selection import train_test_split\n",
    "from sklearn.linear_model import LinearRegression\n",
    "from sklearn.metrics import mean_squared_error\n",
    "from sklearn.ensemble import RandomForestRegressor"
   ]
  },
  {
   "cell_type": "markdown",
   "id": "8661c271",
   "metadata": {},
   "source": [
    "# Linear Regression"
   ]
  },
  {
   "cell_type": "code",
   "execution_count": 32,
   "id": "72220b78",
   "metadata": {},
   "outputs": [],
   "source": [
    "X_train, X_test, y_train, y_test = train_test_split(train_data, y, test_size= 0.3, random_state=12)"
   ]
  },
  {
   "cell_type": "code",
   "execution_count": 33,
   "id": "a494ef51",
   "metadata": {},
   "outputs": [],
   "source": [
    "model = LinearRegression()\n",
    "model.fit(X_train, y_train)\n",
    "y_pred = model.predict(X_test)"
   ]
  },
  {
   "cell_type": "code",
   "execution_count": 34,
   "id": "404df505",
   "metadata": {},
   "outputs": [],
   "source": [
    "y_pred[y_pred > 1] = 1\n",
    "y_pred[y_pred < 0] = 0"
   ]
  },
  {
   "cell_type": "code",
   "execution_count": 35,
   "id": "9c3c61f0",
   "metadata": {},
   "outputs": [],
   "source": [
    "mse = mean_squared_error(y_test, y_pred)\n",
    "mse"
   ]
  },
  {
   "cell_type": "markdown",
   "id": "d91ad6e5",
   "metadata": {},
   "source": [
    "# Ridge Regression"
   ]
  },
  {
   "cell_type": "code",
   "execution_count": 36,
   "id": "5e0531f7",
   "metadata": {},
   "outputs": [],
   "source": [
    "from sklearn.linear_model import Ridge"
   ]
  },
  {
   "cell_type": "code",
   "execution_count": 37,
   "id": "482b556b",
   "metadata": {},
   "outputs": [],
   "source": [
    "ridge_model = Ridge(alpha=0.02)\n",
    "ridge_model.fit(X_train, y_train)\n",
    "y_pred = ridge_model.predict(X_test)"
   ]
  },
  {
   "cell_type": "code",
   "execution_count": 38,
   "id": "fb2b655e",
   "metadata": {},
   "outputs": [],
   "source": [
    "y_pred[y_pred > 1] = 1\n",
    "y_pred[y_pred < 0] = 0"
   ]
  },
  {
   "cell_type": "code",
   "execution_count": 39,
   "id": "5c3f3446",
   "metadata": {},
   "outputs": [],
   "source": [
    "mse = mean_squared_error(y_test, y_pred)\n",
    "mse"
   ]
  },
  {
   "cell_type": "markdown",
   "id": "24ccc37e",
   "metadata": {},
   "source": [
    "# Random Forest Regression"
   ]
  },
  {
   "cell_type": "code",
   "execution_count": 40,
   "id": "33ee7cfb",
   "metadata": {},
   "outputs": [],
   "source": [
    "forest = RandomForestRegressor(n_estimators= 125, random_state=32)\n",
    "forest.fit(X_train, y_train)\n",
    "y_pred = rf_random.predict(X_test)"
   ]
  },
  {
   "cell_type": "code",
   "execution_count": 41,
   "id": "f43b72af",
   "metadata": {},
   "outputs": [],
   "source": [
    "y_pred[y_pred > 1] = 1\n",
    "y_pred[y_pred < 0] = 0"
   ]
  },
  {
   "cell_type": "code",
   "execution_count": 42,
   "id": "20976386",
   "metadata": {},
   "outputs": [],
   "source": [
    "mse = mean_squared_error(y_test, y_pred)\n",
    "mse"
   ]
  },
  {
   "cell_type": "code",
   "execution_count": 43,
   "id": "0fc5832b",
   "metadata": {},
   "outputs": [],
   "source": [
    "forest.get_params()"
   ]
  },
  {
   "cell_type": "markdown",
   "id": "ba4fa832",
   "metadata": {},
   "source": [
    "# TEST SUBMISSION"
   ]
  },
  {
   "cell_type": "code",
   "execution_count": 44,
   "id": "697251cc",
   "metadata": {},
   "outputs": [],
   "source": [
    "train_data = main_data.copy()"
   ]
  },
  {
   "cell_type": "code",
   "execution_count": 45,
   "id": "facd3a8c",
   "metadata": {},
   "outputs": [],
   "source": [
    "y_train = train_data.winPlacePerc\n",
    "X_train = train_data.drop(['Id', 'groupId', 'matchId', 'winPlacePerc', 'matchType'], axis=1)"
   ]
  },
  {
   "cell_type": "code",
   "execution_count": 46,
   "id": "a7dd9f49",
   "metadata": {},
   "outputs": [],
   "source": [
    "scaler_fit = scaler.fit(X_train)\n",
    "X_train = scaler_fit.transform(X_train)"
   ]
  },
  {
   "cell_type": "code",
   "execution_count": null,
   "id": "97a51cc6",
   "metadata": {},
   "outputs": [],
   "source": [
    "# ridge_model = Ridge(alpha=0.02, random_state=42)\n",
    "# ridge_model.fit(X_train, y)\n",
    "forest = RandomForestRegressor(n_estimators= 125, random_state=32)\n",
    "forest.fit(X_train, y_train)"
   ]
  },
  {
   "cell_type": "code",
   "execution_count": null,
   "id": "95b3fd55",
   "metadata": {},
   "outputs": [],
   "source": [
    "test_data = pd.read_csv(\"../test_up.csv\")"
   ]
  },
  {
   "cell_type": "code",
   "execution_count": null,
   "id": "18fac43a",
   "metadata": {},
   "outputs": [],
   "source": [
    "test = test_data.drop(['Id', 'groupId', 'matchId', 'matchType'], axis=1)"
   ]
  },
  {
   "cell_type": "code",
   "execution_count": null,
   "id": "cf085f03",
   "metadata": {},
   "outputs": [],
   "source": [
    "test = scaler_fit.transform(test)"
   ]
  },
  {
   "cell_type": "code",
   "execution_count": null,
   "id": "8dcc49ca",
   "metadata": {},
   "outputs": [],
   "source": [
    "y_pred = forest.predict(test)"
   ]
  },
  {
   "cell_type": "code",
   "execution_count": null,
   "id": "2c694afe",
   "metadata": {},
   "outputs": [],
   "source": [
    "y_pred"
   ]
  },
  {
   "cell_type": "code",
   "execution_count": null,
   "id": "624fdad8",
   "metadata": {},
   "outputs": [],
   "source": [
    "y_pred[y_pred > 1] = 1\n",
    "y_pred[y_pred < 0] = 0"
   ]
  },
  {
   "cell_type": "code",
   "execution_count": null,
   "id": "94145d96",
   "metadata": {},
   "outputs": [],
   "source": [
    "submission = pd.DataFrame({'Id': test_data.Id, 'winPlacePerc': y_pred})"
   ]
  },
  {
   "cell_type": "code",
   "execution_count": null,
   "id": "6c73a1da",
   "metadata": {},
   "outputs": [],
   "source": [
    "submission = submission.round({'winPlacePerc': 4})"
   ]
  },
  {
   "cell_type": "code",
   "execution_count": null,
   "id": "da7a524f",
   "metadata": {},
   "outputs": [],
   "source": [
    "submission"
   ]
  },
  {
   "cell_type": "code",
   "execution_count": null,
   "id": "3135fd33",
   "metadata": {},
   "outputs": [],
   "source": [
    "submission.to_csv('rf_submission.csv', index=False)"
   ]
  },
  {
   "cell_type": "code",
   "execution_count": null,
   "id": "47969b81",
   "metadata": {},
   "outputs": [],
   "source": []
  }
 ],
 "metadata": {
  "kernelspec": {
   "display_name": "Python 3 (ipykernel)",
   "language": "python",
   "name": "python3"
  },
  "language_info": {
   "codemirror_mode": {
    "name": "ipython",
    "version": 3
   },
   "file_extension": ".py",
   "mimetype": "text/x-python",
   "name": "python",
   "nbconvert_exporter": "python",
   "pygments_lexer": "ipython3",
   "version": "3.9.12"
  }
 },
 "nbformat": 4,
 "nbformat_minor": 5
}
